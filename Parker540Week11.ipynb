{
 "cells": [
  {
   "cell_type": "code",
   "execution_count": 2,
   "metadata": {},
   "outputs": [],
   "source": [
    "#connect to petsDB and check whether the connection is successful\n",
    "#import sqlite\n",
    "import sqlite3\n",
    "\n",
    "#open connection\n",
    "conn = sqlite3.connect(\"petsdb\")\n",
    "conn.close()\n"
   ]
  },
  {
   "cell_type": "code",
   "execution_count": 3,
   "metadata": {},
   "outputs": [
    {
     "name": "stdout",
     "output_type": "stream",
     "text": [
      "(1, 'Erica', None, 22, 'south port', 2345678)\n",
      "(2, 'Jordi', None, 73, 'east port', 123456)\n",
      "(3, 'Chasity', None, 70, 'new port', 76856785)\n",
      "(4, 'Gregg', None, 31, 'new port', 76856785)\n",
      "(5, 'Tony', 'Lindgren', 7, 'west port', 2345678)\n",
      "(6, 'Cary', None, 73, 'new port', 76856785)\n",
      "(7, 'Gabe', 'Thompson', 54, 'new port', 9756543)\n",
      "(8, 'Francisca', None, 14, 'west port', 123456)\n",
      "(9, 'Katelyn', 'Torphy', 49, 'east port', 9756543)\n",
      "(10, 'Raleigh', None, 68, 'new port', 2345678)\n",
      "(11, 'Maria', None, 42, 'west port', 123456)\n",
      "(12, 'Mariane', None, 62, 'south port', 9756543)\n",
      "(13, 'Mona', None, 44, 'south port', 76856785)\n",
      "(14, 'Kayla', None, 36, 'south port', 2345678)\n",
      "(15, 'Karlie', None, 35, 'west port', 123456)\n",
      "(16, 'Morris', None, 71, 'west port', 76856785)\n",
      "(17, 'Sandy', None, 23, 'east port', 2345678)\n",
      "(18, 'Hector', None, 63, 'east port', 9756543)\n",
      "(19, 'Hiram', None, 52, 'west port', 2345678)\n",
      "(20, 'Tressa', None, 59, 'new port', 123456)\n",
      "(21, 'Berry', None, 22, 'south port', 2345678)\n",
      "(22, 'Pearline', None, 73, 'new port', 9756543)\n",
      "(23, 'Maynard', None, 25, 'east port', 123456)\n",
      "(24, 'Dorian', None, 40, 'east port', 123456)\n",
      "(25, 'Mylene', None, 5, 'east port', 76856785)\n",
      "(26, 'Lafayette', None, 34, 'new port', 2345678)\n",
      "(27, 'Friedrich', 'Wunsch', 48, 'east port', 9756543)\n",
      "(28, 'Domenica', 'Lakin', 13, 'west port', 76856785)\n",
      "(29, 'Tara', None, 39, 'west port', 123456)\n",
      "(30, 'Destiny', None, 18, 'south port', 2345678)\n",
      "(31, 'Lesly', None, 31, 'west port', 123456)\n",
      "(32, 'Perry', None, 19, 'south port', 76856785)\n",
      "(33, 'Keyon', 'Upton', 51, 'south port', 123456)\n",
      "(34, 'Jacquelyn', 'Bradtke', 54, 'south port', 123456)\n",
      "(35, 'Maritza', None, 73, 'east port', 9756543)\n",
      "(36, 'Ivory', 'Sawayn', 8, 'south port', 76856785)\n",
      "(37, 'Grant', None, 61, 'east port', 76856785)\n",
      "(38, 'Salma', 'Terry', 71, 'west port', 123456)\n",
      "(39, 'Laury', None, 17, 'east port', 9756543)\n",
      "(40, 'Name', None, 52, 'east port', 9756543)\n",
      "(41, 'Estefania', None, 32, 'new port', 76856785)\n",
      "(42, 'Destiney', None, 65, 'west port', 2345678)\n",
      "(43, 'Jaquelin', None, 73, 'west port', 9756543)\n",
      "(44, 'Brenda', 'Murray', 62, 'south port', 2345678)\n",
      "(45, 'Alfonzo', None, 16, 'east port', 2345678)\n",
      "(46, 'Lisandro', None, 11, 'new port', 76856785)\n",
      "(47, 'Lurline', 'Becker', 24, 'west port', 76856785)\n",
      "(48, 'Timmothy', 'Tillman', 12, 'new port', 76856785)\n",
      "(49, 'Priscilla', None, 65, 'east port', 76856785)\n",
      "(50, 'Elenora', None, 11, 'new port', 76856785)\n",
      "(51, 'Wendell', 'Sauer', 39, 'south port', 76856785)\n",
      "(52, 'Rudolph', None, 14, 'east port', 76856785)\n",
      "(53, 'Gabriella', 'Kertzmann', 30, 'south port', 76856785)\n",
      "(54, 'Citlalli', 'Pollich', 18, 'west port', 2345678)\n",
      "(55, 'Dax', 'Romaguera', 23, 'west port', 123456)\n",
      "(56, 'Ona', None, 35, 'east port', 9756543)\n",
      "(57, 'Rebeca', None, 50, 'new port', 76856785)\n",
      "(58, 'Lou', 'Bradtke', 71, 'south port', 2345678)\n",
      "(59, 'Sigurd', None, 12, 'west port', 76856785)\n",
      "(60, 'Nicklaus', 'Purdy', 72, 'new port', 2345678)\n",
      "(61, 'Destiney', 'Sauer', 24, 'west port', 2345678)\n",
      "(62, 'Cassidy', 'Crona', 18, 'east port', 123456)\n",
      "(63, 'Alice', None, 8, 'west port', 76856785)\n",
      "(64, 'Dane', None, 24, 'west port', 9756543)\n",
      "(65, 'Judge', None, 17, 'south port', 76856785)\n",
      "(66, 'Allene', None, 9, 'new port', 9756543)\n",
      "(67, 'Jalen', None, 33, 'new port', 2345678)\n",
      "(68, 'Aniyah', 'Grant', 27, 'new port', 9756543)\n",
      "(69, 'Ashton', 'Schaden', 25, 'west port', 2345678)\n",
      "(70, 'Myron', None, 36, 'new port', 9756543)\n",
      "(71, 'Presley', 'Gleason', 58, 'new port', 9756543)\n",
      "(72, 'Ephraim', 'Kihn', 67, 'south port', 123456)\n",
      "(73, 'Travon', None, 16, 'south port', 2345678)\n",
      "(74, 'Shayna', None, 60, 'new port', 2345678)\n",
      "(75, 'Myah', None, 14, 'east port', 2345678)\n",
      "(76, 'Sammy', 'Franecki', 53, 'south port', 76856785)\n",
      "(77, 'Ebba', 'Kihn', 34, 'west port', 2345678)\n",
      "(78, 'Leilani', 'Gislason', 53, 'south port', 123456)\n",
      "(79, 'Isabel', 'Beier', 74, 'west port', 2345678)\n",
      "(80, 'Jo', 'DuBuque', 68, 'west port', 76856785)\n",
      "(81, 'Angel', 'Mraz', 37, 'west port', 123456)\n",
      "(82, 'Letha', None, 44, 'new port', 9756543)\n",
      "(83, 'Lily', 'Hegmann', 12, 'east port', 123456)\n",
      "(84, 'Felton', None, 74, 'east port', 2345678)\n",
      "(85, 'London', None, 66, 'east port', 9756543)\n",
      "(86, 'Koby', None, 31, 'west port', 9756543)\n",
      "(87, 'Golden', None, 35, 'east port', 76856785)\n",
      "(88, 'Elfrieda', 'Nikolaus', 36, 'west port', 2345678)\n",
      "(89, 'Anissa', None, 8, 'south port', 76856785)\n",
      "(90, 'Mathew', 'Luettgen', 71, 'east port', 2345678)\n",
      "(91, 'Sid', None, 22, 'west port', 123456)\n",
      "(92, 'Micheal', 'Schuppe', 6, 'west port', 9756543)\n",
      "(93, 'Joanie', 'Cassin', 68, 'new port', 76856785)\n",
      "(94, 'Jerad', 'Pfeffer', 74, 'west port', 123456)\n",
      "(95, 'Benjamin', 'Lowe', 51, 'south port', 9756543)\n",
      "(96, 'Ernesto', None, 69, 'east port', 9756543)\n",
      "(97, 'Josianne', None, 14, 'west port', 76856785)\n",
      "(98, 'Hilma', 'Waelchi', 48, 'east port', 9756543)\n",
      "(99, 'Otilia', 'Gleason', 66, 'new port', 9756543)\n",
      "(100, 'Adrian', 'Schinner', 5, 'south port', 76856785)\n"
     ]
    }
   ],
   "source": [
    "#opened up the database and printed one of the tables from it \n",
    "conn = sqlite3.connect(\"petsdb\")\n",
    "cursor = conn.cursor()\n",
    "rows = cursor.execute(\"SELECT * FROM persons\")\n",
    "for row in rows:\n",
    "    print(row)"
   ]
  },
  {
   "cell_type": "code",
   "execution_count": 4,
   "metadata": {},
   "outputs": [
    {
     "name": "stdout",
     "output_type": "stream",
     "text": [
      "2 people who are age 5\n",
      "1 people who are age 6\n",
      "1 people who are age 7\n",
      "3 people who are age 8\n",
      "1 people who are age 9\n",
      "2 people who are age 11\n",
      "3 people who are age 12\n",
      "1 people who are age 13\n",
      "4 people who are age 14\n",
      "2 people who are age 16\n",
      "2 people who are age 17\n",
      "3 people who are age 18\n",
      "1 people who are age 19\n",
      "3 people who are age 22\n",
      "2 people who are age 23\n",
      "3 people who are age 24\n",
      "2 people who are age 25\n",
      "1 people who are age 27\n",
      "1 people who are age 30\n",
      "3 people who are age 31\n",
      "1 people who are age 32\n",
      "1 people who are age 33\n",
      "2 people who are age 34\n",
      "3 people who are age 35\n",
      "3 people who are age 36\n",
      "1 people who are age 37\n",
      "2 people who are age 39\n",
      "1 people who are age 40\n",
      "1 people who are age 42\n",
      "2 people who are age 44\n",
      "2 people who are age 48\n",
      "1 people who are age 49\n",
      "1 people who are age 50\n",
      "2 people who are age 51\n",
      "2 people who are age 52\n",
      "2 people who are age 53\n",
      "2 people who are age 54\n",
      "1 people who are age 58\n",
      "1 people who are age 59\n",
      "1 people who are age 60\n",
      "1 people who are age 61\n",
      "2 people who are age 62\n",
      "1 people who are age 63\n",
      "2 people who are age 65\n",
      "2 people who are age 66\n",
      "1 people who are age 67\n",
      "3 people who are age 68\n",
      "1 people who are age 69\n",
      "1 people who are age 70\n",
      "4 people who are age 71\n",
      "1 people who are age 72\n",
      "5 people who are age 73\n",
      "3 people who are age 74\n"
     ]
    }
   ],
   "source": [
    "#find the different age groups in the persons database\n",
    "#open database\n",
    "with sqlite3.connect('petsdb') as conn:\n",
    "    cursor = conn.cursor()\n",
    "    #group by ages and pull the count\n",
    "    for people,age in cursor.execute(\"SELECT count(*), age FROM persons GROUP BY age\"):\n",
    "        #print in an easy to read way\n",
    "        print(\"{} people who are age {}\".format(people,age))"
   ]
  },
  {
   "cell_type": "code",
   "execution_count": 5,
   "metadata": {},
   "outputs": [
    {
     "name": "stdout",
     "output_type": "stream",
     "text": [
      "5 people who are age 73\n",
      "4 people who are age 71\n",
      "4 people who are age 14\n",
      "3 people who are age 74\n",
      "3 people who are age 68\n",
      "3 people who are age 36\n",
      "3 people who are age 35\n",
      "3 people who are age 31\n",
      "3 people who are age 24\n",
      "3 people who are age 22\n",
      "3 people who are age 18\n",
      "3 people who are age 12\n",
      "3 people who are age 8\n",
      "2 people who are age 66\n",
      "2 people who are age 65\n",
      "2 people who are age 62\n",
      "2 people who are age 54\n",
      "2 people who are age 53\n",
      "2 people who are age 52\n",
      "2 people who are age 51\n",
      "2 people who are age 48\n",
      "2 people who are age 44\n",
      "2 people who are age 39\n",
      "2 people who are age 34\n",
      "2 people who are age 25\n",
      "2 people who are age 23\n",
      "2 people who are age 17\n",
      "2 people who are age 16\n",
      "2 people who are age 11\n",
      "2 people who are age 5\n",
      "1 people who are age 72\n",
      "1 people who are age 70\n",
      "1 people who are age 69\n",
      "1 people who are age 67\n",
      "1 people who are age 63\n",
      "1 people who are age 61\n",
      "1 people who are age 60\n",
      "1 people who are age 59\n",
      "1 people who are age 58\n",
      "1 people who are age 50\n",
      "1 people who are age 49\n",
      "1 people who are age 42\n",
      "1 people who are age 40\n",
      "1 people who are age 37\n",
      "1 people who are age 33\n",
      "1 people who are age 32\n",
      "1 people who are age 30\n",
      "1 people who are age 27\n",
      "1 people who are age 19\n",
      "1 people who are age 13\n",
      "1 people who are age 9\n",
      "1 people who are age 7\n",
      "1 people who are age 6\n"
     ]
    }
   ],
   "source": [
    "#find the age group that has the maximum number of people\n",
    "#open database\n",
    "with sqlite3.connect('petsdb') as conn:\n",
    "    cursor = conn.cursor()\n",
    "    #group by ages and pull the count, ordered by highest\n",
    "    for people,age in cursor.execute(\"SELECT count(*), age FROM persons GROUP BY age ORDER BY count(*) DESC\"):\n",
    "        #print in an easy to read way\n",
    "        print(\"{} people who are age {}\".format(people,age))\n"
   ]
  },
  {
   "cell_type": "code",
   "execution_count": 6,
   "metadata": {},
   "outputs": [
    {
     "name": "stdout",
     "output_type": "stream",
     "text": [
      "number of people 60\n"
     ]
    }
   ],
   "source": [
    "#find the people who do not have a last name\n",
    "\n",
    "#counting everyone without a last name in the system\n",
    "last =  cursor.execute(\"SELECT count(*) FROM persons WHERE last_name IS null\")\n",
    "for l in last:\n",
    "    #only printing number with statement\n",
    "    print(\"number of people {}\".format(l[0]))"
   ]
  },
  {
   "cell_type": "code",
   "execution_count": 9,
   "metadata": {},
   "outputs": [
    {
     "name": "stdout",
     "output_type": "stream",
     "text": [
      "(36,)\n"
     ]
    }
   ],
   "source": [
    "#find hout how many pets have received treatment\n",
    "\n",
    "#selecting all pets with treatment from pets table and printing\n",
    "treat = cursor.execute(\"SELECT count(*) FROM pets WHERE treatment_done=1\")\n",
    "for row in treat:\n",
    "    print(row)"
   ]
  },
  {
   "cell_type": "code",
   "execution_count": 10,
   "metadata": {},
   "outputs": [
    {
     "name": "stdout",
     "output_type": "stream",
     "text": [
      "(16,)\n"
     ]
    }
   ],
   "source": [
    "#find out how many pets have received treatment and the type of pet is known\n",
    "\n",
    "#selecting all pets with treatment and without pet_type from pets table\n",
    "type = cursor.execute(\"SELECT count(*) FROM pets WHERE treatment_done=1 AND pet_type IS NOT null\")\n",
    "for row in type:\n",
    "    print(row)"
   ]
  },
  {
   "cell_type": "code",
   "execution_count": 11,
   "metadata": {},
   "outputs": [
    {
     "name": "stdout",
     "output_type": "stream",
     "text": [
      "(49,)\n"
     ]
    }
   ],
   "source": [
    "#find out how many pets are from the city called east port\n",
    "\n",
    "#joined the pets and persons tables via owner_id, and counting pets where city is east port\n",
    "east = cursor.execute(\"SELECT count(*) FROM pets JOIN persons ON pets.owner_id = persons.id WHERE persons.city='east port'\")\n",
    "for row in east:\n",
    "    print(row)"
   ]
  },
  {
   "cell_type": "code",
   "execution_count": 12,
   "metadata": {},
   "outputs": [
    {
     "name": "stdout",
     "output_type": "stream",
     "text": [
      "(11,)\n"
     ]
    }
   ],
   "source": [
    "#find out how many pets are from the city east port and who received a treatment\n",
    "\n",
    "#joining the two tables with two factors of people from specific city and pets with treatment\n",
    "east_treat = cursor.execute(\"SELECT count(*) FROM pets JOIN persons ON pets.owner_id = persons.id WHERE persons.city='east port' AND pets.treatment_done=1\")\n",
    "for row in east_treat:\n",
    "    print(row)"
   ]
  },
  {
   "cell_type": "code",
   "execution_count": null,
   "metadata": {},
   "outputs": [],
   "source": []
  }
 ],
 "metadata": {
  "kernelspec": {
   "display_name": "Python 3 (ipykernel)",
   "language": "python",
   "name": "python3"
  },
  "language_info": {
   "codemirror_mode": {
    "name": "ipython",
    "version": 3
   },
   "file_extension": ".py",
   "mimetype": "text/x-python",
   "name": "python",
   "nbconvert_exporter": "python",
   "pygments_lexer": "ipython3",
   "version": "3.9.5"
  }
 },
 "nbformat": 4,
 "nbformat_minor": 2
}
